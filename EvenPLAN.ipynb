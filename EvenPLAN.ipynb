{
 "cells": [
  {
   "cell_type": "code",
   "execution_count": 1,
   "id": "4d0114df",
   "metadata": {},
   "outputs": [],
   "source": [
    "# Warning control\n",
    "import warnings\n",
    "warnings.filterwarnings(\"ignore\", category=DeprecationWarning)\n",
    "import yaml\n",
    "from crewai import Agent, Task, Crew\n",
    "# from crewai.tools import SerperDevTool, WebsiteSearchTool\n",
    "from dotenv import load_dotenv\n",
    "import os\n",
    "\n"
   ]
  },
  {
   "cell_type": "code",
   "execution_count": 2,
   "id": "486250af",
   "metadata": {},
   "outputs": [],
   "source": [
    "# Load environment variables\n",
    "load_dotenv()\n",
    "os.environ[\"OPENAI_MODEL_NAME\"] = 'gpt-3.5-turbo'\n",
    "os.environ[\"OPENAI_API_KEY\"] = os.getenv(\"OPENAI_API_KEY\")\n",
    "os.environ[\"SERPER_API_KEY\"] = os.getenv(\"SERPER_API_KEY\")\n"
   ]
  },
  {
   "cell_type": "code",
   "execution_count": 3,
   "id": "f1d770b2",
   "metadata": {},
   "outputs": [],
   "source": [
    "\n",
    "# Define file paths for YAML configurations\n",
    "files = {\n",
    "    'agents': 'config/agents.yaml',\n",
    "    'tasks': 'config/tasks.yaml'\n",
    "}\n",
    "\n",
    "# Load configurations from YAML files\n",
    "configs = {}\n",
    "for config_type, file_path in files.items():\n",
    "    with open(file_path, 'r') as file:\n",
    "        configs[config_type] = yaml.safe_load(file)\n",
    "\n",
    "# Assign loaded configurations to specific variables\n",
    "agents_config = configs['agents']\n",
    "tasks_config = configs['tasks']\n"
   ]
  },
  {
   "cell_type": "code",
   "execution_count": 4,
   "id": "31b84407",
   "metadata": {},
   "outputs": [
    {
     "ename": "NameError",
     "evalue": "name 'SerperDevTool' is not defined",
     "output_type": "error",
     "traceback": [
      "\u001b[31m---------------------------------------------------------------------------\u001b[39m",
      "\u001b[31mNameError\u001b[39m                                 Traceback (most recent call last)",
      "\u001b[36mCell\u001b[39m\u001b[36m \u001b[39m\u001b[32mIn[4]\u001b[39m\u001b[32m, line 2\u001b[39m\n\u001b[32m      1\u001b[39m \u001b[38;5;66;03m# Initialize tools\u001b[39;00m\n\u001b[32m----> \u001b[39m\u001b[32m2\u001b[39m serper_tool = \u001b[43mSerperDevTool\u001b[49m()\n\u001b[32m      3\u001b[39m web_search_tool = WebsiteSearchTool()\n\u001b[32m      4\u001b[39m \u001b[38;5;66;03m# Tools not available in current CrewAI version\u001b[39;00m\n\u001b[32m      5\u001b[39m \u001b[38;5;66;03m# serper_tool = None\u001b[39;00m\n\u001b[32m      6\u001b[39m \u001b[38;5;66;03m# web_search_tool = None\u001b[39;00m\n\u001b[32m      7\u001b[39m \n\u001b[32m      8\u001b[39m \u001b[38;5;66;03m# tools=[serper_tool, web_search_tool],\u001b[39;00m\n\u001b[32m      9\u001b[39m \u001b[38;5;66;03m# guardrails=tasks_config['venue_booking_task']['guardrails'],\u001b[39;00m\n",
      "\u001b[31mNameError\u001b[39m: name 'SerperDevTool' is not defined"
     ]
    }
   ],
   "source": [
    "# Initialize tools\n",
    "serper_tool = SerperDevTool()\n",
    "web_search_tool = WebsiteSearchTool()\n",
    "# Tools not available in current CrewAI version\n",
    "# serper_tool = None\n",
    "# web_search_tool = None\n",
    "\n",
    "# tools=[serper_tool, web_search_tool],\n",
    "# guardrails=tasks_config['venue_booking_task']['guardrails'],"
   ]
  },
  {
   "cell_type": "code",
   "execution_count": null,
   "id": "e0914d85",
   "metadata": {},
   "outputs": [
    {
     "name": "stdout",
     "output_type": "stream",
     "text": [
      "✅ Pydantic models created successfully!\n"
     ]
    }
   ],
   "source": [
    "\n",
    "\n",
    "from typing import List\n",
    "from pydantic import BaseModel, Field\n",
    "\n",
    "class TaskEstimate(BaseModel):\n",
    "    task_name: str = Field(..., description=\"Name of the task\")\n",
    "    estimated_time_hours: float = Field(..., description=\"Estimated time to complete the task in hours\")\n",
    "    required_resources: List[str] = Field(..., description=\"List of resources required to complete the task\")\n",
    "\n",
    "class Milestone(BaseModel):\n",
    "    milestone_name: str = Field(..., description=\"Name of the milestone\")\n",
    "    tasks: List[str] = Field(..., description=\"List of task IDs associated with this milestone\")\n",
    "\n",
    "class EventPLan(BaseModel):\n",
    "    tasks: List[TaskEstimate] = Field(..., description=\"List of tasks with their estimates\")\n",
    "    milestones: List[Milestone] = Field(..., description=\"List of project milestones\")\n",
    "\n",
    "print(\"✅ Pydantic models created successfully!\")"
   ]
  },
  {
   "cell_type": "code",
   "execution_count": null,
   "id": "507ab576",
   "metadata": {},
   "outputs": [
    {
     "ename": "ValidationError",
     "evalue": "1 validation error for Task\ntools.0\n  Input should be a valid dictionary or instance of BaseTool [type=model_type, input_value='serper_search', input_type=str]\n    For further information visit https://errors.pydantic.dev/2.11/v/model_type",
     "output_type": "error",
     "traceback": [
      "\u001b[31m---------------------------------------------------------------------------\u001b[39m",
      "\u001b[31mValidationError\u001b[39m                           Traceback (most recent call last)",
      "\u001b[36mCell\u001b[39m\u001b[36m \u001b[39m\u001b[32mIn[7]\u001b[39m\u001b[32m, line 17\u001b[39m\n\u001b[32m     10\u001b[39m marketing_agent = Agent(\n\u001b[32m     11\u001b[39m     config=agents_config[\u001b[33m'\u001b[39m\u001b[33mmarketing_agent\u001b[39m\u001b[33m'\u001b[39m]\n\u001b[32m     12\u001b[39m )\n\u001b[32m     16\u001b[39m \u001b[38;5;66;03m# Creating Tasks\u001b[39;00m\n\u001b[32m---> \u001b[39m\u001b[32m17\u001b[39m venue_booking_task = \u001b[43mTask\u001b[49m\u001b[43m(\u001b[49m\n\u001b[32m     18\u001b[39m \u001b[43m    \u001b[49m\u001b[43mconfig\u001b[49m\u001b[43m=\u001b[49m\u001b[43mtasks_config\u001b[49m\u001b[43m[\u001b[49m\u001b[33;43m'\u001b[39;49m\u001b[33;43mvenue_booking_task\u001b[39;49m\u001b[33;43m'\u001b[39;49m\u001b[43m]\u001b[49m\u001b[43m,\u001b[49m\n\u001b[32m     19\u001b[39m \u001b[43m    \u001b[49m\u001b[43magent\u001b[49m\u001b[43m=\u001b[49m\u001b[43mvenue_booking_agent\u001b[49m\n\u001b[32m     20\u001b[39m \u001b[43m)\u001b[49m\n\u001b[32m     22\u001b[39m logistics_task = Task(\n\u001b[32m     23\u001b[39m     config=tasks_config[\u001b[33m'\u001b[39m\u001b[33mlogistics_task\u001b[39m\u001b[33m'\u001b[39m],\n\u001b[32m     24\u001b[39m     agent=logistics_agent\n\u001b[32m     25\u001b[39m )\n\u001b[32m     27\u001b[39m marketing_task = Task(\n\u001b[32m     28\u001b[39m     config=tasks_config[\u001b[33m'\u001b[39m\u001b[33mmarketing_task\u001b[39m\u001b[33m'\u001b[39m],\n\u001b[32m     29\u001b[39m     agent=marketing_agent,\n\u001b[32m     30\u001b[39m     output_pydantic=EventPLan\n\u001b[32m     31\u001b[39m )\n",
      "\u001b[36mFile \u001b[39m\u001b[32mc:\\Anaconda3\\Lib\\site-packages\\pydantic\\main.py:253\u001b[39m, in \u001b[36mBaseModel.__init__\u001b[39m\u001b[34m(self, **data)\u001b[39m\n\u001b[32m    251\u001b[39m \u001b[38;5;66;03m# `__tracebackhide__` tells pytest and some other tools to omit this function from tracebacks\u001b[39;00m\n\u001b[32m    252\u001b[39m __tracebackhide__ = \u001b[38;5;28;01mTrue\u001b[39;00m\n\u001b[32m--> \u001b[39m\u001b[32m253\u001b[39m validated_self = \u001b[38;5;28;43mself\u001b[39;49m\u001b[43m.\u001b[49m\u001b[43m__pydantic_validator__\u001b[49m\u001b[43m.\u001b[49m\u001b[43mvalidate_python\u001b[49m\u001b[43m(\u001b[49m\u001b[43mdata\u001b[49m\u001b[43m,\u001b[49m\u001b[43m \u001b[49m\u001b[43mself_instance\u001b[49m\u001b[43m=\u001b[49m\u001b[38;5;28;43mself\u001b[39;49m\u001b[43m)\u001b[49m\n\u001b[32m    254\u001b[39m \u001b[38;5;28;01mif\u001b[39;00m \u001b[38;5;28mself\u001b[39m \u001b[38;5;129;01mis\u001b[39;00m \u001b[38;5;129;01mnot\u001b[39;00m validated_self:\n\u001b[32m    255\u001b[39m     warnings.warn(\n\u001b[32m    256\u001b[39m         \u001b[33m'\u001b[39m\u001b[33mA custom validator is returning a value other than `self`.\u001b[39m\u001b[38;5;130;01m\\n\u001b[39;00m\u001b[33m'\u001b[39m\n\u001b[32m    257\u001b[39m         \u001b[33m\"\u001b[39m\u001b[33mReturning anything other than `self` from a top level model validator isn\u001b[39m\u001b[33m'\u001b[39m\u001b[33mt supported when validating via `__init__`.\u001b[39m\u001b[38;5;130;01m\\n\u001b[39;00m\u001b[33m\"\u001b[39m\n\u001b[32m    258\u001b[39m         \u001b[33m'\u001b[39m\u001b[33mSee the `model_validator` docs (https://docs.pydantic.dev/latest/concepts/validators/#model-validators) for more details.\u001b[39m\u001b[33m'\u001b[39m,\n\u001b[32m    259\u001b[39m         stacklevel=\u001b[32m2\u001b[39m,\n\u001b[32m    260\u001b[39m     )\n",
      "\u001b[31mValidationError\u001b[39m: 1 validation error for Task\ntools.0\n  Input should be a valid dictionary or instance of BaseTool [type=model_type, input_value='serper_search', input_type=str]\n    For further information visit https://errors.pydantic.dev/2.11/v/model_type"
     ]
    }
   ],
   "source": [
    "\n",
    "# Creating Agents\n",
    "venue_booking_agent = Agent(\n",
    "    config=agents_config['venue_booking_agent']\n",
    ")\n",
    "\n",
    "logistics_agent = Agent(\n",
    "    config=agents_config['logistics_agent']\n",
    ")\n",
    "\n",
    "marketing_agent = Agent(\n",
    "    config=agents_config['marketing_agent']\n",
    ")\n",
    "\n",
    "\n",
    "\n",
    "# Creating Tasks\n",
    "venue_booking_task = Task(\n",
    "    config=tasks_config['venue_booking_task'],\n",
    "    agent=venue_booking_agent\n",
    ")\n",
    "\n",
    "logistics_task = Task(\n",
    "    config=tasks_config['logistics_task'],\n",
    "    agent=logistics_agent\n",
    ")\n",
    "\n",
    "marketing_task = Task(\n",
    "    config=tasks_config['marketing_task'],\n",
    "    agent=marketing_agent,\n",
    "    output_pydantic=EventPLan\n",
    ")\n",
    "\n",
    "print(\"✅ All tasks created successfully!\")\n"
   ]
  },
  {
   "cell_type": "code",
   "execution_count": null,
   "id": "fb5894eb",
   "metadata": {},
   "outputs": [
    {
     "ename": "NameError",
     "evalue": "name 'venue_booking_task' is not defined",
     "output_type": "error",
     "traceback": [
      "\u001b[31m---------------------------------------------------------------------------\u001b[39m",
      "\u001b[31mNameError\u001b[39m                                 Traceback (most recent call last)",
      "\u001b[36mCell\u001b[39m\u001b[36m \u001b[39m\u001b[32mIn[23]\u001b[39m\u001b[32m, line 9\u001b[39m\n\u001b[32m      1\u001b[39m \u001b[38;5;66;03m# Creating Crew\u001b[39;00m\n\u001b[32m      2\u001b[39m crew = Crew(\n\u001b[32m      3\u001b[39m     agents=[\n\u001b[32m      4\u001b[39m         venue_booking_agent,\n\u001b[32m      5\u001b[39m         logistics_agent,\n\u001b[32m      6\u001b[39m         marketing_agent\n\u001b[32m      7\u001b[39m     ],\n\u001b[32m      8\u001b[39m     tasks=[\n\u001b[32m----> \u001b[39m\u001b[32m9\u001b[39m         \u001b[43mvenue_booking_task\u001b[49m,\n\u001b[32m     10\u001b[39m         logistics_task,\n\u001b[32m     11\u001b[39m         marketing_task\n\u001b[32m     12\u001b[39m     ],\n\u001b[32m     13\u001b[39m     verbose=\u001b[38;5;28;01mTrue\u001b[39;00m\n\u001b[32m     14\u001b[39m )\n\u001b[32m     16\u001b[39m \u001b[38;5;28mprint\u001b[39m(\u001b[33m\"\u001b[39m\u001b[33m✅ Crew created successfully!\u001b[39m\u001b[33m\"\u001b[39m)\n",
      "\u001b[31mNameError\u001b[39m: name 'venue_booking_task' is not defined"
     ]
    }
   ],
   "source": [
    "\n",
    "\n",
    "# Creating Crew\n",
    "crew = Crew(\n",
    "    agents=[\n",
    "        venue_booking_agent,\n",
    "        logistics_agent,\n",
    "        marketing_agent\n",
    "    ],\n",
    "    tasks=[\n",
    "        venue_booking_task,\n",
    "        logistics_task,\n",
    "        marketing_task\n",
    "    ],\n",
    "    verbose=True\n",
    ")\n",
    "\n",
    "print(\"✅ Crew created successfully!\")\n"
   ]
  },
  {
   "cell_type": "code",
   "execution_count": null,
   "id": "99c1f564",
   "metadata": {},
   "outputs": [],
   "source": [
    "\n",
    "# Event planning inputs\n",
    "event_type = 'Corporate Conference'\n",
    "industry = 'Technology'\n",
    "event_objectives = 'Organize a successful technology conference for 200+ attendees'\n",
    "event_team = \"\"\"\n",
    "- John Doe (Event Manager)\n",
    "- Jane Doe (Venue Coordinator)\n",
    "- Bob Smith (Marketing Specialist)\n",
    "- Alice Johnson (Logistics Coordinator)\n",
    "- Tom Brown (Technical Support)\n",
    "\"\"\"\n",
    "event_requirements = \"\"\"\n",
    "- Secure a venue with capacity for 200+ attendees and modern AV equipment\n",
    "- Arrange catering services for coffee breaks and lunch\n",
    "- Coordinate transportation and parking arrangements\n",
    "- Create engaging marketing materials and social media campaigns\n",
    "- Design professional invitations and registration system\n",
    "- Ensure proper event insurance and security measures\n",
    "- Coordinate with speakers and prepare presentation materials\n",
    "- Set up event registration and check-in system\n",
    "- Plan networking sessions and interactive activities\n",
    "- Prepare post-event feedback collection and analysis\n",
    "\"\"\"\n",
    "\n",
    "print(\"✅ Event inputs defined successfully!\")\n",
    "\n",
    "# Prepare inputs for the crew"
   ]
  },
  {
   "cell_type": "code",
   "execution_count": null,
   "id": "bd0a717c",
   "metadata": {},
   "outputs": [],
   "source": [
    "\n",
    "\n",
    "\n",
    "\n",
    "# Prepare inputs for the crew\n",
    "inputs = {\n",
    "    'event_type': event_type,\n",
    "    'event_objectives': event_objectives,\n",
    "    'industry': industry,\n",
    "    'event_team': event_team,\n",
    "    'event_requirements': event_requirements\n",
    "}\n",
    "\n",
    "print(\"🚀 Starting the crew...\")\n",
    "result = crew.kickoff(inputs=inputs)\n",
    "print(\"✅ Crew completed successfully!\")\n",
    "\n",
    "# Display the results\n",
    "print(\"📊 Event Planning Results:\")\n",
    "print(\"=\" * 50)\n",
    "if hasattr(result, 'pydantic') and result.pydantic:\n",
    "    result_dict = result.pydantic.dict()\n",
    "    print(\"✅ Structured output received!\")\n",
    "    print(f\"�� Number of tasks: {len(result_dict.get('tasks', []))}\")\n",
    "    print(f\"🎯 Number of milestones: {len(result_dict.get('milestones', []))}\")\n",
    "else:\n",
    "    print(\"📝 Raw output:\")\n",
    "    print(result)"
   ]
  },
  {
   "cell_type": "code",
   "execution_count": 5,
   "id": "b92621b6",
   "metadata": {},
   "outputs": [
    {
     "name": "stdout",
     "output_type": "stream",
     "text": [
      "CrewAI version: 0.150.0\n",
      "Pydantic version: 2.11.7\n"
     ]
    }
   ],
   "source": [
    "import crewai\n",
    "print(f\"CrewAI version: {crewai.__version__}\")\n",
    "\n",
    "import pydantic\n",
    "print(f\"Pydantic version: {pydantic.__version__}\")"
   ]
  }
 ],
 "metadata": {
  "kernelspec": {
   "display_name": "newenv",
   "language": "python",
   "name": "python3"
  },
  "language_info": {
   "codemirror_mode": {
    "name": "ipython",
    "version": 3
   },
   "file_extension": ".py",
   "mimetype": "text/x-python",
   "name": "python",
   "nbconvert_exporter": "python",
   "pygments_lexer": "ipython3",
   "version": "3.11.13"
  }
 },
 "nbformat": 4,
 "nbformat_minor": 5
}
